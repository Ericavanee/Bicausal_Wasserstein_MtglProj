{
 "cells": [
  {
   "cell_type": "markdown",
   "id": "241c0e28-e9d3-46aa-a7ad-5c2ba7106d13",
   "metadata": {},
   "source": [
    "## Testing Concurrence of A Markov Chain With Given Transition Kernel"
   ]
  },
  {
   "cell_type": "markdown",
   "id": "252d30c2",
   "metadata": {},
   "source": [
    "This tutorial implements Section 6.2 of the paper, where we conduct multidimensional martingale test for Markov chain coupling (X,Y), each with m=1 state.\n",
    "\n",
    "Specifically, we are interested in testing if a $\\varphi$-irreducible and positive recurrent\n",
    "Markov chain sequence $\\left\\{  U_{n}:n\\geq0\\right\\}  $ taking values on a\n",
    "state-space $S$ (e.g.~the support of $\\varphi$, which may be assumed to be a maximal irreducibility measure) follows a particular\n",
    "transition kernel, $\\left\\{  K\\left(  z,\\cdot\\right)  :z\\in S\\right\\}  $. Assuming for simplicity that $S\\subseteq\\R^m$, this\n",
    "is true if and only if for all continuous and bounded functions $u\\left(\n",
    "\\cdot\\right) $ we have that \n",
    "$$\n",
    "\\left(  X_{n},Y_{n}\\right)  =\\left( u_n  ,u_n +u\\left(  u_{n+1}\\right)  -\\left(  Kv\\right)  \\left(\n",
    "u_{n}\\right)  \\right)\n",
    "$$\n",
    "forms a martingale pair for $\\varphi$-a.e.~$u_{n}$. \n",
    "Indeed, if the ergodic chain satisfies this condition we have that for all\n",
    "continuous and bounded functions $v\\left(  \\cdot\\right)$,\n",
    "$$\n",
    "\\left(  Kv\\right)  \\left(  u_{n}\\right)  =E\\left[  v\\left(  U_{n+1}\\right)\n",
    "|U_{n}=u_n\\right]\n",
    "$$\n",
    "almost everywhere with respect to the stationary measure which is a maximal\n",
    "irreducibility measure (see Theorems 10.0.1 and 10.1.2 in \\citep{meyn2009}). \n",
    "\n",
    "As an application of our results in this paper, we can select a family of\n",
    "continuous and bounded functions $v_{1},\\dots,v_{d}:\\R^m\\to \\R^m$ so we can test the martingale property for the pair\n",
    "of $d$-dimensional vectors $\\left(  X_{n},Y_{n}\\right)  \\in \\R^{md}\\times \\R^{md}%\n",
    "$, where\n",
    "\\begin{align}\n",
    "    X_{n}\\left(  i\\right)  =U_n  ,\\text{ }Y_{n}\\left(\n",
    "i\\right)  =U_n  +v_i\\left(  U_{n+1}\\right)  -\\left(\n",
    "Kv_{i}\\right)  \\left(  U_{n}\\right)  .\n",
    "\\end{align}"
   ]
  },
  {
   "cell_type": "code",
   "execution_count": null,
   "id": "badbe050",
   "metadata": {},
   "outputs": [],
   "source": [
    "import sys\n",
    "sys.path.insert(0, '..')\n",
    "from applications.markov.markov import *\n",
    "from src.adapted_mtgl.mtgl_test.multiD import *\n",
    "from src.adapted_mtgl.mtgl_test.mtgl import *"
   ]
  },
  {
   "cell_type": "code",
   "execution_count": null,
   "id": "25f89958",
   "metadata": {},
   "outputs": [],
   "source": [
    "# load simulated integration list for give (rho, sigma, d)\n",
    "itgl1D = np.loadtxt('/Users/helangchun/PycharmProjects/Bicausal_Wasserstein_MtglProj/src/adapted_mtgl/mtgl_test/simulated_data/d1rho5sig1p1000n1000.txt')\n",
    "itgl2D = np.loadtxt('/Users/helangchun/PycharmProjects/Bicausal_Wasserstein_MtglProj/src/adapted_mtgl/mtgl_test/simulated_data/d2rho5sig1p50n1000.txt')"
   ]
  },
  {
   "cell_type": "markdown",
   "id": "a8639be6",
   "metadata": {},
   "source": [
    "### I. Gaussian Markov Process\n",
    "\n",
    "We consider the simple case of an infinite state space Gaussian Markov Process as the following:\n",
    "\\begin{align}\n",
    "U_{n+1} = \\kappa U_{n}+\\xi_{n+1},\n",
    "\\end{align}\n",
    "where $\\kappa \\in [0,1]$, $\\xi_{n+1} \\sim \\mathcal{N}(0,1)$ for each $n \\in \\mathbb{N}$. "
   ]
  },
  {
   "cell_type": "markdown",
   "id": "bc505153",
   "metadata": {},
   "source": [
    "(1). d=1 Markov chain coupling test case"
   ]
  },
  {
   "cell_type": "code",
   "execution_count": null,
   "id": "5eaedb62-f8fd-4582-aa19-b7dbd5066c51",
   "metadata": {},
   "outputs": [],
   "source": [
    "u_list = [identity]\n",
    "X,Y = markov_coupling(1000,0.5,u_list)\n",
    "rho = 5\n",
    "sig = 1\n",
    "lbd,ubd = [-50,50]\n",
    "conf = 95\n",
    "# Perform the martingale test\n",
    "params = get_params(rho,X,Y,sig)\n",
    "result = mtgl_test(params, lbd, ubd, conf, itgl1D)\n",
    "print(\"Martingale Test Result:\", result)"
   ]
  },
  {
   "cell_type": "code",
   "execution_count": null,
   "id": "393fcf83-77c9-48ed-9d6c-25c6127cbe44",
   "metadata": {},
   "outputs": [],
   "source": [
    "# d=1\n",
    "u_list = [relu]\n",
    "X,Y = markov_coupling(1000,0.5,u_list)\n",
    "rho = 5\n",
    "sig = 1\n",
    "lbd,ubd = [-50,50]\n",
    "conf = 95\n",
    "# Perform the martingale test\n",
    "params = get_params(rho,X,Y,sig)\n",
    "result = mtgl_test(params, lbd, ubd, conf, itgl1D)\n",
    "print(\"Martingale Test Result:\", result)"
   ]
  },
  {
   "cell_type": "markdown",
   "id": "72fc550e",
   "metadata": {},
   "source": [
    "(2). d=2 Markov chain coupling test case"
   ]
  },
  {
   "cell_type": "code",
   "execution_count": null,
   "id": "e9113cee-b3de-4ba6-80c6-0ce8253b440e",
   "metadata": {},
   "outputs": [],
   "source": [
    "u_list = [identity,relu]\n",
    "X,Y = markov_coupling(1000,0.5,u_list)"
   ]
  },
  {
   "cell_type": "code",
   "execution_count": null,
   "id": "17073d55-39ab-421e-971f-61ed322823d6",
   "metadata": {},
   "outputs": [],
   "source": [
    "params = get_params(rho,X,Y,sig)"
   ]
  },
  {
   "cell_type": "code",
   "execution_count": null,
   "id": "466ff227-bcf1-48c3-b1ac-29d78b3feadd",
   "metadata": {},
   "outputs": [],
   "source": [
    "result = mtgl_test_mc(params, lbd, ubd, conf, itgl2D) # choose 'mtgl_test' for nquad computation (costly); choose 'mtgl_test_mc' for speed.\n",
    "print(\"Martingale Test Result:\", result)"
   ]
  },
  {
   "cell_type": "markdown",
   "id": "5a181eb8-5c78-43c9-b22a-896f9184f1d4",
   "metadata": {},
   "source": [
    "### II. Adapted present value process of perpetual cash flow\n",
    "\n",
    "Consider the stochastic process\n",
    "\\begin{align}\n",
    " {U}_n\\ = e^{-rn} \\Big(U_0+ \\int_{0}^{n} e^{rs}d {P_s}\\Big)\n",
    "\\end{align}\n",
    "where $n\\in\\N_0$, $r>0$, $U_0 = 0$, and $ {P}_t = \\sum_{i = 1}^{N_{P,t}}S_{P,i}$ is a non-negative compound Poisson process with $N_{P,t} \\sim \\text{Pois}(\\lambda_P)$ and $S_{P,i} \\sim \\Gamma(\\alpha,\\beta)$. Choose $r = 1$, $\\lambda_P = 2$ and $(\\alpha,\\beta) = (2,3)$, where $\\alpha$ denotes the location parameter and $\\beta$ denotes the scale parameter.\n",
    "\n",
    "To generate the Markov chain, we use the observation that \n",
    "\\begin{align}\n",
    "U_{n+1} = U_n + \\int_{0}^{1} e^{r(s-n)}d P_{n+s}.\n",
    "\\end{align}"
   ]
  },
  {
   "cell_type": "markdown",
   "id": "f9ad9963",
   "metadata": {},
   "source": [
    "(1). d=1 martingale test case"
   ]
  },
  {
   "cell_type": "code",
   "execution_count": null,
   "id": "a30958b1-983d-4f62-8075-bbffcf1d0187",
   "metadata": {},
   "outputs": [],
   "source": [
    "T = 100\n",
    "u_list = [identity]\n",
    "X,Y = transformed_markov_coupling(T, u_list)"
   ]
  },
  {
   "cell_type": "code",
   "execution_count": null,
   "id": "74ca30db-738b-45bf-903c-fa7f63f66542",
   "metadata": {},
   "outputs": [],
   "source": [
    "rho = 5\n",
    "sig = 1\n",
    "lbd,ubd = [-50,50]\n",
    "conf = 95\n",
    "params = get_params(rho,X,Y,sig)\n",
    "# Perform the martingale test\n",
    "result = mtgl_test(params,lbd, ubd, conf, itgl1D)\n",
    "print(\"Martingale Test Result:\", result)"
   ]
  },
  {
   "cell_type": "markdown",
   "id": "324a11b8",
   "metadata": {},
   "source": [
    "(2). d=2 martingale test case"
   ]
  },
  {
   "cell_type": "code",
   "execution_count": null,
   "id": "f9756ea3-171e-4cee-be84-8eb30a2e5acb",
   "metadata": {},
   "outputs": [],
   "source": [
    "T = 1000\n",
    "u_list = [identity,relu]\n",
    "X,Y = transformed_markov_coupling(T, u_list)"
   ]
  },
  {
   "cell_type": "code",
   "execution_count": null,
   "id": "372f676c-5c69-440e-8a92-ff7bb534b5db",
   "metadata": {},
   "outputs": [],
   "source": [
    "rho = 5\n",
    "sig = 1\n",
    "lbd,ubd = [-50,50]\n",
    "conf = 95\n",
    "itgl = np.loadtxt('d2rho5sig1p50n1000.txt')\n",
    "params = get_params(rho,X,Y,sig)\n",
    "# Perform the martingale test\n",
    "result = mtgl_test(params,lbd, ubd, conf, itgl2D)\n",
    "print(\"Martingale Test Result:\", result)"
   ]
  }
 ],
 "metadata": {
  "kernelspec": {
   "display_name": "base",
   "language": "python",
   "name": "python3"
  },
  "language_info": {
   "codemirror_mode": {
    "name": "ipython",
    "version": 3
   },
   "file_extension": ".py",
   "mimetype": "text/x-python",
   "name": "python",
   "nbconvert_exporter": "python",
   "pygments_lexer": "ipython3",
   "version": "3.12.8"
  }
 },
 "nbformat": 4,
 "nbformat_minor": 5
}
