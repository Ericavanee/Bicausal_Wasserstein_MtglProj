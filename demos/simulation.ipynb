{
 "cells": [
  {
   "cell_type": "code",
   "execution_count": null,
   "id": "da9b6280-4a99-491b-b782-d75902d9a1f5",
   "metadata": {},
   "outputs": [],
   "source": [
    "import sys\n",
    "sys.path.insert(0, '..')\n",
    "import numpy as np\n",
    "import matplotlib.pyplot as plt\n",
    "from src.adapted_mtgl.simulation.sim import *\n",
    "from src.adapted_mtgl.mtgl_test.multiD import *"
   ]
  },
  {
   "cell_type": "markdown",
   "id": "cac8b131",
   "metadata": {},
   "source": [
    "### Simulate Brownian Motion"
   ]
  },
  {
   "cell_type": "code",
   "execution_count": null,
   "id": "0e18bf17",
   "metadata": {},
   "outputs": [],
   "source": [
    "plot_brownian_motion(5000)"
   ]
  },
  {
   "cell_type": "markdown",
   "id": "5c212991-db69-4a91-a40d-c09b10b2ce5e",
   "metadata": {},
   "source": [
    "### Generate Martingale Couplings"
   ]
  },
  {
   "cell_type": "code",
   "execution_count": null,
   "id": "8683e435-fa8d-455e-a59f-7dfcf24a618a",
   "metadata": {},
   "outputs": [],
   "source": [
    "# Generate Martingale Couplings\n",
    "n = 100 # sample size\n",
    "x,y = basic(n)"
   ]
  },
  {
   "cell_type": "code",
   "execution_count": null,
   "id": "cfce3842-2770-4faa-bf1b-8937be00305b",
   "metadata": {},
   "outputs": [],
   "source": [
    "# Plot generated samples\n",
    "fig = plt.figure()\n",
    "plt.plot(x,y,'b+')\n",
    "plt.title('Generated Martingale Couplings')"
   ]
  },
  {
   "cell_type": "markdown",
   "id": "24cb1a3f",
   "metadata": {},
   "source": [
    "### Plot smoothed density function with different values of sigma"
   ]
  },
  {
   "cell_type": "code",
   "execution_count": null,
   "id": "72e4b67f",
   "metadata": {},
   "outputs": [],
   "source": [
    "from scipy.stats import multivariate_normal"
   ]
  },
  {
   "cell_type": "code",
   "execution_count": null,
   "id": "5ad9c0f3",
   "metadata": {},
   "outputs": [],
   "source": [
    "# Sigma = 0.01\n",
    "sig = 0.01\n",
    "mean = [0,0]\n",
    "cov = [[sig**2,sig**2],[sig**2,2*sig**2]]\n",
    "w_rv = multivariate_normal(mean, cov)\n",
    "plot_smooth_density(x,y,50,-1,1,w_rv)"
   ]
  },
  {
   "cell_type": "code",
   "execution_count": null,
   "id": "49636125",
   "metadata": {},
   "outputs": [],
   "source": [
    "# Sigma = 0.1\n",
    "sig = 0.1\n",
    "mean = [0,0]\n",
    "cov = [[sig**2,sig**2],[sig**2,2*sig**2]]\n",
    "w_rv = multivariate_normal(mean, cov)\n",
    "plot_smooth_density(x,y,50,-2,2,w_rv)"
   ]
  },
  {
   "cell_type": "code",
   "execution_count": null,
   "id": "176065b3",
   "metadata": {},
   "outputs": [],
   "source": [
    "# Sigma = 1\n",
    "sig = 1\n",
    "mean = [0,0]\n",
    "cov = [[sig**2,sig**2],[sig**2,2*sig**2]]\n",
    "w_rv = multivariate_normal(mean, cov)\n",
    "plot_smooth_density(x,y,50,-5,5,w_rv)"
   ]
  },
  {
   "cell_type": "markdown",
   "id": "66305d51-6afd-468a-ba94-02f715ad0c2c",
   "metadata": {},
   "source": [
    "### Compute Conditional Expectation"
   ]
  },
  {
   "cell_type": "code",
   "execution_count": null,
   "id": "ae1b8625-23bd-4bb4-8631-368cba53d010",
   "metadata": {},
   "outputs": [],
   "source": [
    "# Plot E[Y|X] versus X for sampling size n = 100\n",
    "plot_conditionalExp_y(x,y,20,sig = 1)"
   ]
  },
  {
   "cell_type": "markdown",
   "id": "ecd7b983-46be-466a-9d43-79b9a4168eb8",
   "metadata": {},
   "source": [
    "### Monte Carlo Simulation of Expected Error"
   ]
  },
  {
   "cell_type": "code",
   "execution_count": null,
   "id": "13c4410d-fe84-42e8-81cd-71bcef78ef15",
   "metadata": {},
   "outputs": [],
   "source": [
    "# Graph of Sigma = 1\n",
    "sig = 1\n",
    "n_grid = [10,50,100,150,200,250,300,350]\n",
    "res1 = plot_monteCarlo(sig,n_grid)"
   ]
  },
  {
   "cell_type": "code",
   "execution_count": null,
   "id": "79ea6708-8c89-4c32-adc2-957e81921184",
   "metadata": {},
   "outputs": [],
   "source": [
    "# Graph of Sigma = 0.1\n",
    "sig = 0.1\n",
    "res2 = plot_monteCarlo(sig,n_grid)\n"
   ]
  },
  {
   "cell_type": "code",
   "execution_count": null,
   "id": "196b57c5",
   "metadata": {},
   "outputs": [],
   "source": [
    "# Graph of Sigma = 2\n",
    "res3 = plot_monteCarlo(sig,n_grid)"
   ]
  },
  {
   "cell_type": "code",
   "execution_count": null,
   "id": "7b284f2e",
   "metadata": {},
   "outputs": [],
   "source": [
    "# Compare monte-carlo error curves with different Sigmas\n",
    "fig = plt.figure(figsize=(12,10)) # set size\n",
    "plt.plot(n_grid,res1[1], color = 'g')\n",
    "plt.plot(n_grid,res2[1], color ='b')\n",
    "plt.plot(n_grid, res3[1], color = 'r')\n",
    "plt.show()"
   ]
  }
 ],
 "metadata": {
  "kernelspec": {
   "display_name": "base",
   "language": "python",
   "name": "python3"
  },
  "language_info": {
   "codemirror_mode": {
    "name": "ipython",
    "version": 3
   },
   "file_extension": ".py",
   "mimetype": "text/x-python",
   "name": "python",
   "nbconvert_exporter": "python",
   "pygments_lexer": "ipython3",
   "version": "3.12.8"
  }
 },
 "nbformat": 4,
 "nbformat_minor": 5
}
