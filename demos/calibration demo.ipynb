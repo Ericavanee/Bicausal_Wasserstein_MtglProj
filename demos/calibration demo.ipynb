{
 "cells": [
  {
   "cell_type": "code",
   "execution_count": 1,
   "id": "0d604571-f633-49c7-9799-d039b98c58b0",
   "metadata": {},
   "outputs": [],
   "source": [
    "import heston_call_numpy as hc\n",
    "from calibration_mtgl_test import *"
   ]
  },
  {
   "cell_type": "code",
   "execution_count": 2,
   "id": "64434fa0-77f2-47e2-9876-45b54f605b7c",
   "metadata": {},
   "outputs": [],
   "source": [
    "# LSV calibration"
   ]
  },
  {
   "cell_type": "code",
   "execution_count": 3,
   "id": "44e025e6-d687-457b-97cf-ecd6d87f0622",
   "metadata": {},
   "outputs": [],
   "source": [
    "rho = 5\n",
    "lbd = -50\n",
    "ubd = 50\n",
    "conf = 95\n",
    "critical_data = np.loadtxt('rho5sig1.txt') # simulated data used to compute critical value"
   ]
  },
  {
   "cell_type": "code",
   "execution_count": 4,
   "id": "f105f461-4f76-464e-9b1a-8211add89c1a",
   "metadata": {},
   "outputs": [
    {
     "name": "stdout",
     "output_type": "stream",
     "text": [
      "[16, 32]\n",
      "[[1.         0.95635444 0.96101594 ... 0.         0.         0.        ]\n",
      " [1.         0.99152702 0.97971606 ... 0.         0.         0.        ]\n",
      " [1.         1.00276649 0.98541278 ... 0.         0.         0.        ]\n",
      " ...\n",
      " [1.         1.00639749 1.00547409 ... 0.         0.         0.        ]\n",
      " [1.         1.02952552 1.0381937  ... 0.         0.         0.        ]\n",
      " [1.         1.01098406 0.97410154 ... 0.         0.         0.        ]]\n"
     ]
    }
   ],
   "source": [
    "# perform martingale test\n",
    "maturities = range(16, 33, 16)\n",
    "print(list(maturities))\n",
    "# load data\n",
    "stock_traj = np.loadtxt(\"LSV_calibrated_stock_traj.txt\")\n",
    "print(stock_traj)"
   ]
  },
  {
   "cell_type": "code",
   "execution_count": 5,
   "id": "31b93e97-d487-412c-b3df-f21d31a24f3e",
   "metadata": {},
   "outputs": [
    {
     "name": "stdout",
     "output_type": "stream",
     "text": [
      "[0.8  0.82 0.84 0.86 0.88 0.9  0.92 0.94 0.96 0.98 1.   1.02 1.04 1.06\n",
      " 1.08 1.1  1.12 1.14 1.16 1.18 1.2 ]\n",
      "[16, 32]\n"
     ]
    }
   ],
   "source": [
    "strikes_call = np.arange(0.8, 1.21, 0.02)\n",
    "print(strikes_call)\n",
    "maturities = range(16, 33, 16)\n",
    "print(list(maturities))\n",
    "\n",
    "result = hc.price_payoff_coupling(x = stock_traj, strikes_call = strikes_call, maturities = maturities, itr = 1000, dt = 1/96, timesteps = 96)\n",
    "calibrated_payoff = result[1]\n",
    "market_price = result[0] # vanilla"
   ]
  },
  {
   "cell_type": "code",
   "execution_count": 6,
   "id": "cfd0535e-fa27-4952-8b0e-213e0ea50813",
   "metadata": {},
   "outputs": [],
   "source": [
    "vanilla_loss = mtgLoss_vanilla(rho, calibrated_payoff, market_price)"
   ]
  },
  {
   "cell_type": "code",
   "execution_count": 7,
   "id": "f212199b-8e99-4abb-af0a-ad630e8c943e",
   "metadata": {},
   "outputs": [
    {
     "data": {
      "text/plain": [
       "(17.241699474005348, False)"
      ]
     },
     "execution_count": 7,
     "metadata": {},
     "output_type": "execute_result"
    }
   ],
   "source": [
    "mtgl_test(rho,calibrated_payoff, market_price,lbd,ubd,conf,critical_data,vanilla_loss)"
   ]
  },
  {
   "cell_type": "code",
   "execution_count": 8,
   "id": "407eff64-08e7-471f-a7c3-a54749db7342",
   "metadata": {},
   "outputs": [
    {
     "data": {
      "text/plain": [
       "4.498309681496935"
      ]
     },
     "execution_count": 8,
     "metadata": {},
     "output_type": "execute_result"
    }
   ],
   "source": [
    "cutoff(critical_data,conf)"
   ]
  },
  {
   "cell_type": "code",
   "execution_count": 9,
   "id": "fe5938b0-b38f-4454-b053-ca12b80b52ca",
   "metadata": {},
   "outputs": [],
   "source": [
    "# LV calibrated"
   ]
  },
  {
   "cell_type": "code",
   "execution_count": 10,
   "id": "c098370d-05d6-4dcc-8cac-9631465ba649",
   "metadata": {},
   "outputs": [
    {
     "name": "stdout",
     "output_type": "stream",
     "text": [
      "[16, 32]\n",
      "[[1.         0.98540115 0.99362361 ... 0.         0.         0.        ]\n",
      " [1.         1.03447974 1.03733873 ... 0.         0.         0.        ]\n",
      " [1.         1.00770235 1.01471627 ... 0.         0.         0.        ]\n",
      " ...\n",
      " [1.         0.94418389 0.93262643 ... 0.         0.         0.        ]\n",
      " [1.         0.96668428 0.92922485 ... 0.         0.         0.        ]\n",
      " [1.         1.02036333 0.98314911 ... 0.         0.         0.        ]]\n"
     ]
    }
   ],
   "source": [
    "# perform martingale test\n",
    "maturities = range(16, 33, 16)\n",
    "print(list(maturities))\n",
    "# load data\n",
    "stock_traj = np.loadtxt(\"stock_traj_LV.txt\")\n",
    "print(stock_traj)"
   ]
  },
  {
   "cell_type": "code",
   "execution_count": 11,
   "id": "384af3b4-5c17-4322-9f2d-18cc862d2421",
   "metadata": {},
   "outputs": [
    {
     "name": "stdout",
     "output_type": "stream",
     "text": [
      "[0.8  0.82 0.84 0.86 0.88 0.9  0.92 0.94 0.96 0.98 1.   1.02 1.04 1.06\n",
      " 1.08 1.1  1.12 1.14 1.16 1.18 1.2 ]\n",
      "[16, 32]\n"
     ]
    }
   ],
   "source": [
    "strikes_call = np.arange(0.8, 1.21, 0.02)\n",
    "print(strikes_call)\n",
    "maturities = range(16, 33, 16)\n",
    "print(list(maturities))\n",
    "\n",
    "result = hc.price_payoff_coupling(x = stock_traj, strikes_call = strikes_call, maturities = maturities, itr = 1000, dt = 1/96, timesteps = 96)\n",
    "calibrated_payoff = result[1]\n",
    "market_price = result[0] # vanilla"
   ]
  },
  {
   "cell_type": "code",
   "execution_count": 12,
   "id": "b6de0247-e89b-4709-bebb-5c286e985d7c",
   "metadata": {},
   "outputs": [],
   "source": [
    "vanilla_loss = mtgLoss_vanilla(rho, calibrated_payoff, market_price)"
   ]
  },
  {
   "cell_type": "code",
   "execution_count": 13,
   "id": "a3eb281e-aa54-4e7c-85cb-4aa707b5b675",
   "metadata": {},
   "outputs": [
    {
     "data": {
      "text/plain": [
       "(11.714198181748259, False)"
      ]
     },
     "execution_count": 13,
     "metadata": {},
     "output_type": "execute_result"
    }
   ],
   "source": [
    "mtgl_test(rho,calibrated_payoff, market_price,lbd,ubd,conf,critical_data,vanilla_loss)"
   ]
  },
  {
   "cell_type": "code",
   "execution_count": 14,
   "id": "28f17971-5a31-463e-89a6-983fc52d83d8",
   "metadata": {},
   "outputs": [
    {
     "data": {
      "text/plain": [
       "5.760330379658377"
      ]
     },
     "execution_count": 14,
     "metadata": {},
     "output_type": "execute_result"
    }
   ],
   "source": [
    "cutoff(critical_data, 99)"
   ]
  },
  {
   "cell_type": "code",
   "execution_count": 15,
   "id": "f2af022f-3ab2-4dd4-8be5-a2769ad7e227",
   "metadata": {},
   "outputs": [
    {
     "data": {
      "text/plain": [
       "4.498309681496935"
      ]
     },
     "execution_count": 15,
     "metadata": {},
     "output_type": "execute_result"
    }
   ],
   "source": [
    "cutoff(critical_data, 95)"
   ]
  },
  {
   "cell_type": "code",
   "execution_count": 16,
   "id": "3cb0d868-1158-440f-96b6-1433a2d97938",
   "metadata": {},
   "outputs": [
    {
     "data": {
      "text/plain": [
       "3.9970005594959432"
      ]
     },
     "execution_count": 16,
     "metadata": {},
     "output_type": "execute_result"
    }
   ],
   "source": [
    "cutoff(critical_data, 90)"
   ]
  },
  {
   "cell_type": "code",
   "execution_count": 17,
   "id": "3f35c3b7-1977-49f3-a508-9d88f9be0e65",
   "metadata": {},
   "outputs": [
    {
     "data": {
      "text/plain": [
       "1.055351514447585"
      ]
     },
     "execution_count": 17,
     "metadata": {},
     "output_type": "execute_result"
    }
   ],
   "source": [
    "cutoff(critical_data, 1)"
   ]
  },
  {
   "cell_type": "code",
   "execution_count": 18,
   "id": "f9a41957-6682-4ae2-a542-8c68b2851460",
   "metadata": {},
   "outputs": [
    {
     "data": {
      "text/plain": [
       "1.2963921273697747"
      ]
     },
     "execution_count": 18,
     "metadata": {},
     "output_type": "execute_result"
    }
   ],
   "source": [
    "cutoff(critical_data, 5)"
   ]
  },
  {
   "cell_type": "code",
   "execution_count": 19,
   "id": "2097f42a-ab97-4360-955e-c14fafcf0e1f",
   "metadata": {},
   "outputs": [
    {
     "data": {
      "text/plain": [
       "1.497203634443813"
      ]
     },
     "execution_count": 19,
     "metadata": {},
     "output_type": "execute_result"
    }
   ],
   "source": [
    "cutoff(critical_data, 10)"
   ]
  }
 ],
 "metadata": {
  "kernelspec": {
   "display_name": "Python 3 (ipykernel)",
   "language": "python",
   "name": "python3"
  },
  "language_info": {
   "codemirror_mode": {
    "name": "ipython",
    "version": 3
   },
   "file_extension": ".py",
   "mimetype": "text/x-python",
   "name": "python",
   "nbconvert_exporter": "python",
   "pygments_lexer": "ipython3",
   "version": "3.9.7"
  }
 },
 "nbformat": 4,
 "nbformat_minor": 5
}
