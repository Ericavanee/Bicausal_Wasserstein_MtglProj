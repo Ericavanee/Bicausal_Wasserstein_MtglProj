{
 "cells": [
  {
   "cell_type": "code",
   "execution_count": null,
   "id": "2a734e7a-8aa5-4fb0-ab59-8353599ccadb",
   "metadata": {},
   "outputs": [],
   "source": [
    "import numpy as np\n",
    "import heston_call_numpy as hc\n",
    "from mtgl_test import *"
   ]
  },
  {
   "cell_type": "code",
   "execution_count": null,
   "id": "b23eade6-266b-4694-9738-0d61f70d3815",
   "metadata": {},
   "outputs": [],
   "source": [
    "# input: calibrated parameters (x0,r,kappa,mu,eta,V0,rho) for each maturity \n",
    "# function: generate option payoff given parameters from the Heston model (question: how to deal with running max when we have different calibrated parameters for different maturities?)"
   ]
  },
  {
   "cell_type": "code",
   "execution_count": null,
   "id": "833bd83b-601f-4868-b6a0-b9cb8ba826f4",
   "metadata": {},
   "outputs": [],
   "source": [
    "# question: how do we calculate the running max? Doubly make sure. Recall that we have a new set of calibrated parameters for each maturity."
   ]
  },
  {
   "cell_type": "code",
   "execution_count": null,
   "id": "1f9ff047-b758-41f2-9186-c824079e8833",
   "metadata": {},
   "outputs": [],
   "source": [
    "# code smoothing kernel\n",
    "def kernel(rho, x):\n",
    "    # x can be a matrix or a scalar, rho is a scalar\n",
    "    return ((rho-1)/2)*(np.float_power(np.abs(x)+1,-rho))"
   ]
  },
  {
   "cell_type": "code",
   "execution_count": null,
   "id": "2901fa3c-f957-4a97-adb6-9782c747d93f",
   "metadata": {},
   "outputs": [],
   "source": [
    "# test 'kernel'\n",
    "x = np.array([[1,2],[1,2]])\n",
    "kernel(3,x) # test passed"
   ]
  },
  {
   "cell_type": "code",
   "execution_count": null,
   "id": "9dde2c4d-9658-4a1b-b586-81fcfb19cfa7",
   "metadata": {},
   "outputs": [],
   "source": [
    "def mtgLoss_vanilla(rho, calibrated_payoff, market_price):\n",
    "    # group by maturities\n",
    "    mat_num = len(calibrated_payoff) # number of maturities\n",
    "    itr, strike_num = calibrated_payoff[0].shape\n",
    "    vanilla_loss = []\n",
    "    for i in range(mat_num):\n",
    "        sum_ls = []\n",
    "        for j in range(itr):\n",
    "            # perform element-wise matrix multiplication\n",
    "            diff = calibrated_payoff[i][j].T.reshape(strike_num,1)-market_price[i][j]\n",
    "            compute_mat = np.multiply(diff,kernel(rho,diff))  \n",
    "            sum_ls.append(np.sum(np.multiply(compute_mat,compute_mat)))\n",
    "        vanilla_loss.append(sum(sum_ls)) # summing loss over all iterations\n",
    "    vanilla_loss = sum(vanilla_loss) # summing loss over all maturities\n",
    "    # compute average loss across iterations\n",
    "    avg_loss = vanilla_loss/(itr*mat_num*strike_num)\n",
    "    \n",
    "    return avg_loss"
   ]
  },
  {
   "cell_type": "code",
   "execution_count": null,
   "id": "b6432502-751b-481a-8bde-385207fabf60",
   "metadata": {},
   "outputs": [],
   "source": [
    "x = hc.Heston_stock(itr = 10, dt = 1/12, timesteps = 12)[0]\n",
    "strikes_call = np.arange(0.4,1.4, 0.2)\n",
    "print(strikes_call)\n",
    "maturities = range(1,6,2)\n",
    "print(list(maturities))"
   ]
  },
  {
   "cell_type": "code",
   "execution_count": null,
   "id": "2e50fa3a-f41a-4aef-b480-cc7568e5f062",
   "metadata": {},
   "outputs": [],
   "source": [
    "result = hc.price_payoff_coupling(x = x, strikes_call = strikes_call, maturities = maturities, itr = 10, dt = 1/12, timesteps = 12)\n",
    "calibrated_payoff = result[1]\n",
    "market_price = result[0] # vanilla\n",
    "rho = 5\n",
    "\n",
    "mtgLoss_vanilla(rho, calibrated_payoff, market_price)"
   ]
  },
  {
   "cell_type": "markdown",
   "id": "865b2c49-2d55-49ca-810f-c505882646a6",
   "metadata": {},
   "source": [
    "### Previous Formulation (Garbage Collection)"
   ]
  },
  {
   "cell_type": "code",
   "execution_count": null,
   "id": "99b812ea-2e30-4a8f-bf79-f1f057cc7ecb",
   "metadata": {},
   "outputs": [],
   "source": [
    "# write the function for martingale projection loss\n",
    "def mtgLoss_pair(rho, calibrated_payoff, market_price, summation = False):\n",
    "    # group by maturities\n",
    "    mat_num = len(calibrated_payoff[1]) # number of maturities\n",
    "    vanilla_loss = []\n",
    "    for i in range(mat_num):\n",
    "        # perform element-wise matrix multiplication\n",
    "        diff = calibrated_payoff[1][i]-market_price[1][i]\n",
    "        compute_mat = np.multiply(diff,kernel(rho,diff))  \n",
    "        vanilla_loss.append(np.sum(np.multiply(compute_mat,compute_mat)))\n",
    "    vanilla_loss = sum(vanilla_loss)\n",
    "    # exotic options\n",
    "    diff = calibrated_payoff[0]-market_price[0]\n",
    "    compute_mat = np.multiply(diff,kernel(rho,diff)) \n",
    "    exotic_loss = np.sum(np.multiply(compute_mat,compute_mat))\n",
    "    \n",
    "    if summation:\n",
    "        sum_loss = exotic_loss+vanilla_loss\n",
    "        print(\"Total loss of vanilla and exotic options: \", sum_loss)\n",
    "        return sum_loss\n",
    "    else:\n",
    "        print(\"Loss in vanilla: \", vanilla_loss)\n",
    "        print(\"Loss in exotic: \", exotic_loss)\n",
    "        return (exotic_loss, vanilla_loss)"
   ]
  },
  {
   "cell_type": "code",
   "execution_count": null,
   "id": "fee3e42b-94b9-47f6-a719-289d74ef7a9b",
   "metadata": {},
   "outputs": [],
   "source": [
    "# test 'mtgLoss_vanilla'\n",
    "strikes_call = np.arange(0.4,1.4, 0.2)\n",
    "print(strikes_call)\n",
    "maturities = range(1,12,4)\n",
    "print(list(maturities))\n",
    "\n",
    "mat_ls_1 = hc.price_option(strikes_call = strikes_call, maturities = maturities, itr = 100, timesteps = 12)\n",
    "mat_ls_2 = hc.price_option(strikes_call = strikes_call, maturities = maturities, itr = 100, timesteps = 12)"
   ]
  },
  {
   "cell_type": "code",
   "execution_count": null,
   "id": "2728d95d-751c-4036-8eeb-883e2adc2345",
   "metadata": {},
   "outputs": [],
   "source": [
    "# they should be a martingale \n",
    "rho = 5\n",
    "mtgLoss_pair(rho, mat_ls_1, mat_ls_2) # but how do we interpret the numerics?"
   ]
  },
  {
   "cell_type": "code",
   "execution_count": null,
   "id": "4c655eb4-b073-4d93-bf65-2745ba87a630",
   "metadata": {},
   "outputs": [],
   "source": [
    "# train neural network on 59.pt"
   ]
  },
  {
   "cell_type": "markdown",
   "id": "43b8dd32-03b9-4fc9-9d61-a4be495125d8",
   "metadata": {},
   "source": [
    "### Train Neural Network on Call_price59.pt"
   ]
  },
  {
   "cell_type": "markdown",
   "id": "030f0b61-4799-4293-9119-fe76c769b10f",
   "metadata": {},
   "source": [
    "#### Train on LV Model with four maturities"
   ]
  },
  {
   "cell_type": "code",
   "execution_count": null,
   "id": "cb2fa574-4df1-4aed-a385-f3fee9a08b4e",
   "metadata": {},
   "outputs": [],
   "source": [
    "# perform martingale test\n",
    "maturities = range(16, 65, 16)\n",
    "print(list(maturities))\n",
    "# load data\n",
    "stock_traj = np.loadtxt(\"stock_traj_LV.txt\")\n",
    "print(stock_traj)"
   ]
  },
  {
   "cell_type": "code",
   "execution_count": null,
   "id": "ee7c20fb-4e52-4bb2-be7c-18686ebfccdd",
   "metadata": {},
   "outputs": [],
   "source": [
    "len(stock_traj)"
   ]
  },
  {
   "cell_type": "code",
   "execution_count": null,
   "id": "c7655ccc-eea0-4d10-bfb2-38b1706cc62b",
   "metadata": {},
   "outputs": [],
   "source": [
    "# select the first monte carlo trial of stock trajectory\n",
    "stock_traj[0]"
   ]
  },
  {
   "cell_type": "code",
   "execution_count": null,
   "id": "f65c9fe4-bbe0-4b9b-bc34-c4da62f4892e",
   "metadata": {},
   "outputs": [],
   "source": [
    "strikes_call = np.arange(0.8, 1.21, 0.02)\n",
    "result = hc.price_payoff_coupling(x = stock_traj, strikes_call = strikes_call, maturities = maturities, itr = 1000, dt = 1/96, timesteps = 96)\n",
    "calibrated_payoff = result[1]\n",
    "market_price = result[0] # vanilla\n",
    "rho = 2"
   ]
  },
  {
   "cell_type": "code",
   "execution_count": null,
   "id": "b06f5654-7adb-483a-abfa-3157c669282e",
   "metadata": {},
   "outputs": [],
   "source": [
    "# Save the list to a file\n",
    "filename = 'LV_calibrated_payoff.pkl'\n",
    "with open(filename, 'wb') as file:\n",
    "    pickle.dump(result[1], file)"
   ]
  },
  {
   "cell_type": "code",
   "execution_count": null,
   "id": "14ffc3b2-c809-474d-9205-fb9421fe25d0",
   "metadata": {},
   "outputs": [],
   "source": [
    "mtgLoss_vanilla(rho, calibrated_payoff, market_price)"
   ]
  },
  {
   "cell_type": "code",
   "execution_count": null,
   "id": "0f3165a5-5375-49ae-a715-d7c46a12f209",
   "metadata": {},
   "outputs": [],
   "source": [
    "calibrated_payoff[0].shape"
   ]
  },
  {
   "cell_type": "code",
   "execution_count": null,
   "id": "a9ced94b-84cb-4f98-8d7d-bbe6ae191d58",
   "metadata": {},
   "outputs": [],
   "source": [
    "len(calibrated_payoff)"
   ]
  },
  {
   "cell_type": "code",
   "execution_count": null,
   "id": "53b34a82-627a-4d98-a69d-e8eef6c4ad8f",
   "metadata": {},
   "outputs": [],
   "source": [
    "import pickle"
   ]
  },
  {
   "cell_type": "markdown",
   "id": "4b615733-fc85-4b4b-bf70-8e901f7d361b",
   "metadata": {},
   "source": [
    "#### Train on LSV Model with two maturities"
   ]
  },
  {
   "cell_type": "code",
   "execution_count": null,
   "id": "8a791664-9a5b-4541-babc-9c5e5d473d81",
   "metadata": {},
   "outputs": [],
   "source": [
    "rho = 5\n",
    "lbd = -50\n",
    "ubd = 50\n",
    "conf = 95"
   ]
  },
  {
   "cell_type": "code",
   "execution_count": null,
   "id": "8525c6fa-ad38-4170-ac4e-8c434e60ec7a",
   "metadata": {},
   "outputs": [],
   "source": [
    "# perform martingale test\n",
    "maturities = range(16, 33, 16)\n",
    "print(list(maturities))\n",
    "# load data\n",
    "stock_traj = np.loadtxt(\"LSV_calibrated_stock_traj.txt\")\n",
    "print(stock_traj)"
   ]
  },
  {
   "cell_type": "code",
   "execution_count": null,
   "id": "248880e8-cfdf-4c42-87a3-a3c7f1e85d4e",
   "metadata": {},
   "outputs": [],
   "source": [
    "# take the first monte carlo iteration\n",
    "stock_traj[0]"
   ]
  },
  {
   "cell_type": "code",
   "execution_count": null,
   "id": "fc7da45a-d37a-4fe6-a63a-9d4a283e2804",
   "metadata": {},
   "outputs": [],
   "source": [
    "strikes_call = np.arange(0.8, 1.21, 0.02)\n",
    "print(strikes_call)\n",
    "maturities = range(16, 33, 16)\n",
    "print(list(maturities))\n",
    "\n",
    "result = hc.price_payoff_coupling(x = stock_traj, strikes_call = strikes_call, maturities = maturities, itr = 1000, dt = 1/96, timesteps = 96)\n",
    "calibrated_payoff = result[1]\n",
    "market_price = result[0] # vanilla\n",
    "rho = 5"
   ]
  },
  {
   "cell_type": "code",
   "execution_count": null,
   "id": "75543e7f-d23b-422f-a8a4-ea37a90b8adc",
   "metadata": {},
   "outputs": [],
   "source": [
    "def mtgLoss_vanilla(rho, calibrated_payoff, market_price):\n",
    "    # group by maturities\n",
    "    mat_num = len(calibrated_payoff) # number of maturities\n",
    "    itr, strike_num = calibrated_payoff[0].shape\n",
    "    vanilla_loss = []\n",
    "    for i in range(mat_num):\n",
    "        sum_ls = []\n",
    "        for j in range(itr):\n",
    "            # perform element-wise matrix multiplication\n",
    "            diff = calibrated_payoff[i][j].T.reshape(strike_num,1)-market_price[i][j]\n",
    "            compute_mat = np.multiply(diff,kernel(rho,diff))  \n",
    "            sum_ls.append(np.sum(np.multiply(compute_mat,compute_mat)))\n",
    "        vanilla_loss.append(sum(sum_ls)) # summing loss over all iterations\n",
    "    vanilla_loss = sum(vanilla_loss) # summing loss over all maturities\n",
    "    # compute average loss across iterations\n",
    "    avg_loss = vanilla_loss/(itr*mat_num*strike_num)\n",
    "    \n",
    "    return avg_loss"
   ]
  },
  {
   "cell_type": "code",
   "execution_count": null,
   "id": "9a0ca57f-8451-4a9d-865b-281d7d6968f3",
   "metadata": {},
   "outputs": [],
   "source": [
    "calibrated_payoff[0].shape"
   ]
  },
  {
   "cell_type": "code",
   "execution_count": null,
   "id": "41e1701f-fea0-4c7b-9251-0c2e8f4a3f76",
   "metadata": {},
   "outputs": [],
   "source": [
    "calibrated_payoff"
   ]
  },
  {
   "cell_type": "code",
   "execution_count": null,
   "id": "c07c55b7-e090-4a1c-b2c5-a6c238d307fd",
   "metadata": {},
   "outputs": [],
   "source": [
    "len(calibrated_payoff[0])"
   ]
  },
  {
   "cell_type": "code",
   "execution_count": null,
   "id": "a022a417-e47d-470c-ad50-6e09612b80ca",
   "metadata": {},
   "outputs": [],
   "source": [
    "len(calibrated_payoff[0][0])"
   ]
  },
  {
   "cell_type": "code",
   "execution_count": null,
   "id": "cb845abc-38ef-4678-aaf0-932bab2b42e5",
   "metadata": {},
   "outputs": [],
   "source": [
    "vanilla_loss = mtgLoss_vanilla(rho, calibrated_payoff, market_price)\n",
    "vanilla_loss"
   ]
  },
  {
   "cell_type": "code",
   "execution_count": null,
   "id": "fceef29d-3e74-4e1c-841f-f5518812f4b6",
   "metadata": {},
   "outputs": [],
   "source": [
    "result = np.loadtxt('rho5sig1.txt')"
   ]
  },
  {
   "cell_type": "code",
   "execution_count": null,
   "id": "3fd48f42-0d37-4e11-99ba-ae72018f399d",
   "metadata": {},
   "outputs": [],
   "source": [
    "bond = cutoff(result,conf)\n",
    "bond"
   ]
  },
  {
   "cell_type": "code",
   "execution_count": null,
   "id": "d5e6ce86-477b-4186-bc9a-6c8b6c07b5e0",
   "metadata": {},
   "outputs": [],
   "source": [
    "21*4000*2"
   ]
  },
  {
   "cell_type": "code",
   "execution_count": null,
   "id": "017b7a15-ea9b-4007-9214-1e8c37210f2d",
   "metadata": {},
   "outputs": [],
   "source": [
    "np.sqrt(168000)*vanilla_loss"
   ]
  },
  {
   "cell_type": "code",
   "execution_count": null,
   "id": "94271797-9b01-4d64-bbdc-0c9dbd59e8e9",
   "metadata": {},
   "outputs": [],
   "source": [
    "mtgl_test(rho,calibrated_payoff, market_price,lbd,ubd,conf,result,vanilla_loss)"
   ]
  },
  {
   "cell_type": "code",
   "execution_count": null,
   "id": "cec09300-8324-41e5-b5cf-37d1bf1ddab2",
   "metadata": {},
   "outputs": [],
   "source": []
  },
  {
   "cell_type": "code",
   "execution_count": null,
   "id": "5543dfdc-287e-4c34-997d-00c3036901da",
   "metadata": {},
   "outputs": [],
   "source": [
    "#mtgLoss_vanilla(rho, calibrated_payoff, market_price)"
   ]
  },
  {
   "cell_type": "code",
   "execution_count": null,
   "id": "2946f8e2-c663-4774-9af1-89acad4706b3",
   "metadata": {},
   "outputs": [],
   "source": [
    "# q. experiment of the sigma (detect the bump)"
   ]
  }
 ],
 "metadata": {
  "kernelspec": {
   "display_name": "Python 3 (ipykernel)",
   "language": "python",
   "name": "python3"
  },
  "language_info": {
   "codemirror_mode": {
    "name": "ipython",
    "version": 3
   },
   "file_extension": ".py",
   "mimetype": "text/x-python",
   "name": "python",
   "nbconvert_exporter": "python",
   "pygments_lexer": "ipython3",
   "version": "3.12.8"
  }
 },
 "nbformat": 4,
 "nbformat_minor": 5
}
