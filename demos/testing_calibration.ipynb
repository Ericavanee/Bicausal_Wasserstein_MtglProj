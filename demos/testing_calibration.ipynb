{
 "cells": [
  {
   "cell_type": "code",
   "execution_count": 1,
   "id": "2a734e7a-8aa5-4fb0-ab59-8353599ccadb",
   "metadata": {},
   "outputs": [],
   "source": [
    "import numpy as np\n",
    "import heston_call_numpy as hc\n",
    "from mtgl_test import *"
   ]
  },
  {
   "cell_type": "code",
   "execution_count": 2,
   "id": "b23eade6-266b-4694-9738-0d61f70d3815",
   "metadata": {},
   "outputs": [],
   "source": [
    "# input: calibrated parameters (x0,r,kappa,mu,eta,V0,rho) for each maturity \n",
    "# function: generate option payoff given parameters from the Heston model (question: how to deal with running max when we have different calibrated parameters for different maturities?)"
   ]
  },
  {
   "cell_type": "code",
   "execution_count": 3,
   "id": "833bd83b-601f-4868-b6a0-b9cb8ba826f4",
   "metadata": {},
   "outputs": [],
   "source": [
    "# question: how do we calculate the running max? Doubly make sure. Recall that we have a new set of calibrated parameters for each maturity."
   ]
  },
  {
   "cell_type": "code",
   "execution_count": 7,
   "id": "1f9ff047-b758-41f2-9186-c824079e8833",
   "metadata": {},
   "outputs": [],
   "source": [
    "# code smoothing kernel\n",
    "def kernel(rho, x):\n",
    "    # x can be a matrix or a scalar, rho is a scalar\n",
    "    return ((rho-1)/2)*(np.float_power(np.abs(x)+1,-rho))"
   ]
  },
  {
   "cell_type": "code",
   "execution_count": 4,
   "id": "2901fa3c-f957-4a97-adb6-9782c747d93f",
   "metadata": {},
   "outputs": [
    {
     "data": {
      "text/plain": [
       "array([[0.125     , 0.03703704],\n",
       "       [0.125     , 0.03703704]])"
      ]
     },
     "execution_count": 4,
     "metadata": {},
     "output_type": "execute_result"
    }
   ],
   "source": [
    "# test 'kernel'\n",
    "x = np.array([[1,2],[1,2]])\n",
    "kernel(3,x) # test passed"
   ]
  },
  {
   "cell_type": "code",
   "execution_count": 2,
   "id": "9dde2c4d-9658-4a1b-b586-81fcfb19cfa7",
   "metadata": {},
   "outputs": [],
   "source": [
    "def mtgLoss_vanilla(rho, calibrated_payoff, market_price):\n",
    "    # group by maturities\n",
    "    mat_num = len(calibrated_payoff) # number of maturities\n",
    "    itr, strike_num = calibrated_payoff[0].shape\n",
    "    vanilla_loss = []\n",
    "    for i in range(mat_num):\n",
    "        sum_ls = []\n",
    "        for j in range(itr):\n",
    "            # perform element-wise matrix multiplication\n",
    "            diff = calibrated_payoff[i][j].T.reshape(strike_num,1)-market_price[i][j]\n",
    "            compute_mat = np.multiply(diff,kernel(rho,diff))  \n",
    "            sum_ls.append(np.sum(np.multiply(compute_mat,compute_mat)))\n",
    "        vanilla_loss.append(sum(sum_ls)) # summing loss over all iterations\n",
    "    vanilla_loss = sum(vanilla_loss) # summing loss over all maturities\n",
    "    # compute average loss across iterations\n",
    "    avg_loss = vanilla_loss/(itr*mat_num*strike_num)\n",
    "    \n",
    "    return avg_loss"
   ]
  },
  {
   "cell_type": "code",
   "execution_count": 9,
   "id": "b6432502-751b-481a-8bde-385207fabf60",
   "metadata": {},
   "outputs": [
    {
     "name": "stdout",
     "output_type": "stream",
     "text": [
      "[0.4 0.6 0.8 1.  1.2]\n",
      "[1, 3, 5]\n"
     ]
    }
   ],
   "source": [
    "x = hc.Heston_stock(itr = 10, dt = 1/12, timesteps = 12)[0]\n",
    "strikes_call = np.arange(0.4,1.4, 0.2)\n",
    "print(strikes_call)\n",
    "maturities = range(1,6,2)\n",
    "print(list(maturities))"
   ]
  },
  {
   "cell_type": "code",
   "execution_count": 10,
   "id": "2e50fa3a-f41a-4aef-b480-cc7568e5f062",
   "metadata": {},
   "outputs": [
    {
     "data": {
      "text/plain": [
       "0.021584485742802834"
      ]
     },
     "execution_count": 10,
     "metadata": {},
     "output_type": "execute_result"
    }
   ],
   "source": [
    "result = hc.price_payoff_coupling(x = x, strikes_call = strikes_call, maturities = maturities, itr = 10, dt = 1/12, timesteps = 12)\n",
    "calibrated_payoff = result[1]\n",
    "market_price = result[0] # vanilla\n",
    "rho = 5\n",
    "\n",
    "mtgLoss_vanilla(rho, calibrated_payoff, market_price)"
   ]
  },
  {
   "cell_type": "markdown",
   "id": "865b2c49-2d55-49ca-810f-c505882646a6",
   "metadata": {},
   "source": [
    "### Previous Formulation (Garbage Collection)"
   ]
  },
  {
   "cell_type": "code",
   "execution_count": 22,
   "id": "99b812ea-2e30-4a8f-bf79-f1f057cc7ecb",
   "metadata": {},
   "outputs": [],
   "source": [
    "# write the function for martingale projection loss\n",
    "def mtgLoss_pair(rho, calibrated_payoff, market_price, summation = False):\n",
    "    # group by maturities\n",
    "    mat_num = len(calibrated_payoff[1]) # number of maturities\n",
    "    vanilla_loss = []\n",
    "    for i in range(mat_num):\n",
    "        # perform element-wise matrix multiplication\n",
    "        diff = calibrated_payoff[1][i]-market_price[1][i]\n",
    "        compute_mat = np.multiply(diff,kernel(rho,diff))  \n",
    "        vanilla_loss.append(np.sum(np.multiply(compute_mat,compute_mat)))\n",
    "    vanilla_loss = sum(vanilla_loss)\n",
    "    # exotic options\n",
    "    diff = calibrated_payoff[0]-market_price[0]\n",
    "    compute_mat = np.multiply(diff,kernel(rho,diff)) \n",
    "    exotic_loss = np.sum(np.multiply(compute_mat,compute_mat))\n",
    "    \n",
    "    if summation:\n",
    "        sum_loss = exotic_loss+vanilla_loss\n",
    "        print(\"Total loss of vanilla and exotic options: \", sum_loss)\n",
    "        return sum_loss\n",
    "    else:\n",
    "        print(\"Loss in vanilla: \", vanilla_loss)\n",
    "        print(\"Loss in exotic: \", exotic_loss)\n",
    "        return (exotic_loss, vanilla_loss)"
   ]
  },
  {
   "cell_type": "code",
   "execution_count": 38,
   "id": "fee3e42b-94b9-47f6-a719-289d74ef7a9b",
   "metadata": {},
   "outputs": [
    {
     "name": "stdout",
     "output_type": "stream",
     "text": [
      "[0.4 0.6 0.8 1.  1.2]\n",
      "[1, 5, 9]\n"
     ]
    }
   ],
   "source": [
    "# test 'mtgLoss_vanilla'\n",
    "strikes_call = np.arange(0.4,1.4, 0.2)\n",
    "print(strikes_call)\n",
    "maturities = range(1,12,4)\n",
    "print(list(maturities))\n",
    "\n",
    "mat_ls_1 = hc.price_option(strikes_call = strikes_call, maturities = maturities, itr = 100, timesteps = 12)\n",
    "mat_ls_2 = hc.price_option(strikes_call = strikes_call, maturities = maturities, itr = 100, timesteps = 12)"
   ]
  },
  {
   "cell_type": "code",
   "execution_count": 42,
   "id": "2728d95d-751c-4036-8eeb-883e2adc2345",
   "metadata": {},
   "outputs": [
    {
     "name": "stdout",
     "output_type": "stream",
     "text": [
      "Loss in vanilla:  0.00035888587606875164\n",
      "Loss in exotic:  0.0020678052254643584\n"
     ]
    },
    {
     "data": {
      "text/plain": [
       "(0.0020678052254643584, 0.00035888587606875164)"
      ]
     },
     "execution_count": 42,
     "metadata": {},
     "output_type": "execute_result"
    }
   ],
   "source": [
    "# they should be a martingale \n",
    "rho = 5\n",
    "mtgLoss_pair(rho, mat_ls_1, mat_ls_2) # but how do we interpret the numerics?"
   ]
  },
  {
   "cell_type": "code",
   "execution_count": null,
   "id": "4c655eb4-b073-4d93-bf65-2745ba87a630",
   "metadata": {},
   "outputs": [],
   "source": [
    "# train neural network on 59.pt"
   ]
  },
  {
   "cell_type": "markdown",
   "id": "43b8dd32-03b9-4fc9-9d61-a4be495125d8",
   "metadata": {},
   "source": [
    "### Train Neural Network on Call_price59.pt"
   ]
  },
  {
   "cell_type": "markdown",
   "id": "030f0b61-4799-4293-9119-fe76c769b10f",
   "metadata": {},
   "source": [
    "#### Train on LV Model with four maturities"
   ]
  },
  {
   "cell_type": "code",
   "execution_count": 2,
   "id": "cb2fa574-4df1-4aed-a385-f3fee9a08b4e",
   "metadata": {},
   "outputs": [
    {
     "name": "stdout",
     "output_type": "stream",
     "text": [
      "[16, 32, 48, 64]\n",
      "[[1.         0.98540115 0.99362361 ... 0.         0.         0.        ]\n",
      " [1.         1.03447974 1.03733873 ... 0.         0.         0.        ]\n",
      " [1.         1.00770235 1.01471627 ... 0.         0.         0.        ]\n",
      " ...\n",
      " [1.         0.94418389 0.93262643 ... 0.         0.         0.        ]\n",
      " [1.         0.96668428 0.92922485 ... 0.         0.         0.        ]\n",
      " [1.         1.02036333 0.98314911 ... 0.         0.         0.        ]]\n"
     ]
    }
   ],
   "source": [
    "# perform martingale test\n",
    "maturities = range(16, 65, 16)\n",
    "print(list(maturities))\n",
    "# load data\n",
    "stock_traj = np.loadtxt(\"stock_traj_LV.txt\")\n",
    "print(stock_traj)"
   ]
  },
  {
   "cell_type": "code",
   "execution_count": 3,
   "id": "ee7c20fb-4e52-4bb2-be7c-18686ebfccdd",
   "metadata": {},
   "outputs": [
    {
     "data": {
      "text/plain": [
       "4000"
      ]
     },
     "execution_count": 3,
     "metadata": {},
     "output_type": "execute_result"
    }
   ],
   "source": [
    "len(stock_traj)"
   ]
  },
  {
   "cell_type": "code",
   "execution_count": 4,
   "id": "c7655ccc-eea0-4d10-bfb2-38b1706cc62b",
   "metadata": {},
   "outputs": [
    {
     "data": {
      "text/plain": [
       "array([1.        , 0.98540115, 0.99362361, 0.98363215, 0.96423972,\n",
       "       0.96748948, 0.96924037, 0.97284675, 0.96043164, 0.96024227,\n",
       "       0.94904202, 0.92177194, 0.90137631, 0.89315194, 0.8793627 ,\n",
       "       0.88701153, 0.87845844, 0.87892509, 0.87959081, 0.87997603,\n",
       "       0.88086188, 0.88328755, 0.88134891, 0.88129324, 0.87875605,\n",
       "       0.87914455, 0.88008326, 0.87843984, 0.88132733, 0.88003719,\n",
       "       0.88200146, 0.88274384, 0.88489801, 0.89036494, 0.84676188,\n",
       "       0.87584907, 0.84927815, 0.92995304, 0.91937727, 0.93407285,\n",
       "       0.87879932, 0.88721365, 0.90531772, 0.94367898, 0.93375301,\n",
       "       0.96037841, 0.97252077, 0.98961604, 0.99634331, 0.97216123,\n",
       "       0.99552751, 1.0323447 , 1.01489592, 1.04148948, 1.09775949,\n",
       "       1.09987235, 1.13087642, 1.16045153, 1.13652158, 1.132442  ,\n",
       "       1.18201435, 1.1991272 , 1.21370554, 1.22735965, 1.23391056,\n",
       "       0.        , 0.        , 0.        , 0.        , 0.        ,\n",
       "       0.        , 0.        , 0.        , 0.        , 0.        ,\n",
       "       0.        , 0.        , 0.        , 0.        , 0.        ,\n",
       "       0.        , 0.        , 0.        , 0.        , 0.        ,\n",
       "       0.        , 0.        , 0.        , 0.        , 0.        ,\n",
       "       0.        , 0.        , 0.        , 0.        , 0.        ,\n",
       "       0.        , 0.        ])"
      ]
     },
     "execution_count": 4,
     "metadata": {},
     "output_type": "execute_result"
    }
   ],
   "source": [
    "# select the first monte carlo trial of stock trajectory\n",
    "stock_traj[0]"
   ]
  },
  {
   "cell_type": "code",
   "execution_count": 5,
   "id": "f65c9fe4-bbe0-4b9b-bc34-c4da62f4892e",
   "metadata": {},
   "outputs": [
    {
     "ename": "KeyboardInterrupt",
     "evalue": "",
     "output_type": "error",
     "traceback": [
      "\u001b[0;31m---------------------------------------------------------------------------\u001b[0m",
      "\u001b[0;31mTypeError\u001b[0m                                 Traceback (most recent call last)",
      "\u001b[0;32m~/opt/anaconda3/lib/python3.9/site-packages/numpy/core/_methods.py\u001b[0m in \u001b[0;36m_clip_dep_is_scalar_nan\u001b[0;34m(a)\u001b[0m\n\u001b[1;32m     96\u001b[0m     \u001b[0;32mtry\u001b[0m\u001b[0;34m:\u001b[0m\u001b[0;34m\u001b[0m\u001b[0;34m\u001b[0m\u001b[0m\n\u001b[0;32m---> 97\u001b[0;31m         \u001b[0;32mreturn\u001b[0m \u001b[0mum\u001b[0m\u001b[0;34m.\u001b[0m\u001b[0misnan\u001b[0m\u001b[0;34m(\u001b[0m\u001b[0ma\u001b[0m\u001b[0;34m)\u001b[0m\u001b[0;34m\u001b[0m\u001b[0;34m\u001b[0m\u001b[0m\n\u001b[0m\u001b[1;32m     98\u001b[0m     \u001b[0;32mexcept\u001b[0m \u001b[0mTypeError\u001b[0m\u001b[0;34m:\u001b[0m\u001b[0;34m\u001b[0m\u001b[0;34m\u001b[0m\u001b[0m\n",
      "\u001b[0;31mTypeError\u001b[0m: ufunc 'isnan' not supported for the input types, and the inputs could not be safely coerced to any supported types according to the casting rule ''safe''",
      "\nDuring handling of the above exception, another exception occurred:\n",
      "\u001b[0;31mKeyboardInterrupt\u001b[0m                         Traceback (most recent call last)",
      "\u001b[0;32m/var/folders/44/8_54q8w53q34chh_wjy62nyw0000gn/T/ipykernel_29789/3849229970.py\u001b[0m in \u001b[0;36m<module>\u001b[0;34m\u001b[0m\n\u001b[1;32m      1\u001b[0m \u001b[0mstrikes_call\u001b[0m \u001b[0;34m=\u001b[0m \u001b[0mnp\u001b[0m\u001b[0;34m.\u001b[0m\u001b[0marange\u001b[0m\u001b[0;34m(\u001b[0m\u001b[0;36m0.8\u001b[0m\u001b[0;34m,\u001b[0m \u001b[0;36m1.21\u001b[0m\u001b[0;34m,\u001b[0m \u001b[0;36m0.02\u001b[0m\u001b[0;34m)\u001b[0m\u001b[0;34m\u001b[0m\u001b[0;34m\u001b[0m\u001b[0m\n\u001b[0;32m----> 2\u001b[0;31m \u001b[0mresult\u001b[0m \u001b[0;34m=\u001b[0m \u001b[0mhc\u001b[0m\u001b[0;34m.\u001b[0m\u001b[0mprice_payoff_coupling\u001b[0m\u001b[0;34m(\u001b[0m\u001b[0mx\u001b[0m \u001b[0;34m=\u001b[0m \u001b[0mstock_traj\u001b[0m\u001b[0;34m,\u001b[0m \u001b[0mstrikes_call\u001b[0m \u001b[0;34m=\u001b[0m \u001b[0mstrikes_call\u001b[0m\u001b[0;34m,\u001b[0m \u001b[0mmaturities\u001b[0m \u001b[0;34m=\u001b[0m \u001b[0mmaturities\u001b[0m\u001b[0;34m,\u001b[0m \u001b[0mitr\u001b[0m \u001b[0;34m=\u001b[0m \u001b[0;36m1000\u001b[0m\u001b[0;34m,\u001b[0m \u001b[0mdt\u001b[0m \u001b[0;34m=\u001b[0m \u001b[0;36m1\u001b[0m\u001b[0;34m/\u001b[0m\u001b[0;36m96\u001b[0m\u001b[0;34m,\u001b[0m \u001b[0mtimesteps\u001b[0m \u001b[0;34m=\u001b[0m \u001b[0;36m96\u001b[0m\u001b[0;34m)\u001b[0m\u001b[0;34m\u001b[0m\u001b[0;34m\u001b[0m\u001b[0m\n\u001b[0m\u001b[1;32m      3\u001b[0m \u001b[0mcalibrated_payoff\u001b[0m \u001b[0;34m=\u001b[0m \u001b[0mresult\u001b[0m\u001b[0;34m[\u001b[0m\u001b[0;36m1\u001b[0m\u001b[0;34m]\u001b[0m\u001b[0;34m\u001b[0m\u001b[0;34m\u001b[0m\u001b[0m\n\u001b[1;32m      4\u001b[0m \u001b[0mmarket_price\u001b[0m \u001b[0;34m=\u001b[0m \u001b[0mresult\u001b[0m\u001b[0;34m[\u001b[0m\u001b[0;36m0\u001b[0m\u001b[0;34m]\u001b[0m \u001b[0;31m# vanilla\u001b[0m\u001b[0;34m\u001b[0m\u001b[0;34m\u001b[0m\u001b[0m\n\u001b[1;32m      5\u001b[0m \u001b[0mrho\u001b[0m \u001b[0;34m=\u001b[0m \u001b[0;36m2\u001b[0m\u001b[0;34m\u001b[0m\u001b[0;34m\u001b[0m\u001b[0m\n",
      "\u001b[0;32m~/Dropbox (Business)/Wasserstein Martingale Projections/Robust Pricing and Hedging/heston_call_numpy.py\u001b[0m in \u001b[0;36mprice_payoff_coupling\u001b[0;34m(x, strikes_call, maturities, x0, r, V0, kappa, mu, eta, rho, itr, dt, timesteps)\u001b[0m\n\u001b[1;32m     99\u001b[0m                     \u001b[0mS_old\u001b[0m \u001b[0;34m=\u001b[0m \u001b[0minner_stock\u001b[0m\u001b[0;34m.\u001b[0m\u001b[0mT\u001b[0m\u001b[0;34m[\u001b[0m\u001b[0mind_T\u001b[0m\u001b[0;34m-\u001b[0m\u001b[0mj\u001b[0m\u001b[0;34m-\u001b[0m\u001b[0;36m2\u001b[0m\u001b[0;34m]\u001b[0m\u001b[0;34m\u001b[0m\u001b[0;34m\u001b[0m\u001b[0m\n\u001b[1;32m    100\u001b[0m                     \u001b[0;32mfor\u001b[0m \u001b[0midx\u001b[0m\u001b[0;34m,\u001b[0m \u001b[0mstrike\u001b[0m \u001b[0;32min\u001b[0m \u001b[0menumerate\u001b[0m\u001b[0;34m(\u001b[0m\u001b[0mstrikes_call\u001b[0m\u001b[0;34m)\u001b[0m\u001b[0;34m:\u001b[0m\u001b[0;34m\u001b[0m\u001b[0;34m\u001b[0m\u001b[0m\n\u001b[0;32m--> 101\u001b[0;31m                         \u001b[0mprice_vanilla\u001b[0m \u001b[0;34m=\u001b[0m \u001b[0mnp\u001b[0m\u001b[0;34m.\u001b[0m\u001b[0mexp\u001b[0m\u001b[0;34m(\u001b[0m\u001b[0;34m-\u001b[0m\u001b[0mr\u001b[0m\u001b[0;34m*\u001b[0m\u001b[0mmy_mat\u001b[0m\u001b[0;34m)\u001b[0m\u001b[0;34m*\u001b[0m\u001b[0mnp\u001b[0m\u001b[0;34m.\u001b[0m\u001b[0mclip\u001b[0m\u001b[0;34m(\u001b[0m\u001b[0mnp\u001b[0m\u001b[0;34m.\u001b[0m\u001b[0marray\u001b[0m\u001b[0;34m(\u001b[0m\u001b[0mS_old\u001b[0m\u001b[0;34m-\u001b[0m\u001b[0mstrike\u001b[0m\u001b[0;34m)\u001b[0m\u001b[0;34m,\u001b[0m\u001b[0;36m0\u001b[0m\u001b[0;34m,\u001b[0m \u001b[0;36m10\u001b[0m\u001b[0;34m**\u001b[0m\u001b[0;36m100\u001b[0m\u001b[0;34m)\u001b[0m\u001b[0;34m\u001b[0m\u001b[0;34m\u001b[0m\u001b[0m\n\u001b[0m\u001b[1;32m    102\u001b[0m                         \u001b[0;31m# for each maturity and at each time step\u001b[0m\u001b[0;34m\u001b[0m\u001b[0;34m\u001b[0m\u001b[0m\n\u001b[1;32m    103\u001b[0m                         \u001b[0mmat_ls\u001b[0m\u001b[0;34m[\u001b[0m\u001b[0mk\u001b[0m\u001b[0;34m]\u001b[0m\u001b[0;34m[\u001b[0m\u001b[0mi\u001b[0m\u001b[0;34m,\u001b[0m\u001b[0midx\u001b[0m\u001b[0;34m,\u001b[0m\u001b[0mj\u001b[0m\u001b[0;34m]\u001b[0m \u001b[0;34m=\u001b[0m \u001b[0mprice_vanilla\u001b[0m\u001b[0;34m.\u001b[0m\u001b[0mmean\u001b[0m\u001b[0;34m(\u001b[0m\u001b[0;34m)\u001b[0m\u001b[0;34m\u001b[0m\u001b[0;34m\u001b[0m\u001b[0m\n",
      "\u001b[0;32m<__array_function__ internals>\u001b[0m in \u001b[0;36mclip\u001b[0;34m(*args, **kwargs)\u001b[0m\n",
      "\u001b[0;32m~/opt/anaconda3/lib/python3.9/site-packages/numpy/core/fromnumeric.py\u001b[0m in \u001b[0;36mclip\u001b[0;34m(a, a_min, a_max, out, **kwargs)\u001b[0m\n\u001b[1;32m   2113\u001b[0m \u001b[0;34m\u001b[0m\u001b[0m\n\u001b[1;32m   2114\u001b[0m     \"\"\"\n\u001b[0;32m-> 2115\u001b[0;31m     \u001b[0;32mreturn\u001b[0m \u001b[0m_wrapfunc\u001b[0m\u001b[0;34m(\u001b[0m\u001b[0ma\u001b[0m\u001b[0;34m,\u001b[0m \u001b[0;34m'clip'\u001b[0m\u001b[0;34m,\u001b[0m \u001b[0ma_min\u001b[0m\u001b[0;34m,\u001b[0m \u001b[0ma_max\u001b[0m\u001b[0;34m,\u001b[0m \u001b[0mout\u001b[0m\u001b[0;34m=\u001b[0m\u001b[0mout\u001b[0m\u001b[0;34m,\u001b[0m \u001b[0;34m**\u001b[0m\u001b[0mkwargs\u001b[0m\u001b[0;34m)\u001b[0m\u001b[0;34m\u001b[0m\u001b[0;34m\u001b[0m\u001b[0m\n\u001b[0m\u001b[1;32m   2116\u001b[0m \u001b[0;34m\u001b[0m\u001b[0m\n\u001b[1;32m   2117\u001b[0m \u001b[0;34m\u001b[0m\u001b[0m\n",
      "\u001b[0;32m~/opt/anaconda3/lib/python3.9/site-packages/numpy/core/fromnumeric.py\u001b[0m in \u001b[0;36m_wrapfunc\u001b[0;34m(obj, method, *args, **kwds)\u001b[0m\n\u001b[1;32m     55\u001b[0m \u001b[0;34m\u001b[0m\u001b[0m\n\u001b[1;32m     56\u001b[0m     \u001b[0;32mtry\u001b[0m\u001b[0;34m:\u001b[0m\u001b[0;34m\u001b[0m\u001b[0;34m\u001b[0m\u001b[0m\n\u001b[0;32m---> 57\u001b[0;31m         \u001b[0;32mreturn\u001b[0m \u001b[0mbound\u001b[0m\u001b[0;34m(\u001b[0m\u001b[0;34m*\u001b[0m\u001b[0margs\u001b[0m\u001b[0;34m,\u001b[0m \u001b[0;34m**\u001b[0m\u001b[0mkwds\u001b[0m\u001b[0;34m)\u001b[0m\u001b[0;34m\u001b[0m\u001b[0;34m\u001b[0m\u001b[0m\n\u001b[0m\u001b[1;32m     58\u001b[0m     \u001b[0;32mexcept\u001b[0m \u001b[0mTypeError\u001b[0m\u001b[0;34m:\u001b[0m\u001b[0;34m\u001b[0m\u001b[0;34m\u001b[0m\u001b[0m\n\u001b[1;32m     59\u001b[0m         \u001b[0;31m# A TypeError occurs if the object does have such a method in its\u001b[0m\u001b[0;34m\u001b[0m\u001b[0;34m\u001b[0m\u001b[0m\n",
      "\u001b[0;32m~/opt/anaconda3/lib/python3.9/site-packages/numpy/core/_methods.py\u001b[0m in \u001b[0;36m_clip\u001b[0;34m(a, min, max, out, casting, **kwargs)\u001b[0m\n\u001b[1;32m    135\u001b[0m             \u001b[0mmin\u001b[0m \u001b[0;34m=\u001b[0m \u001b[0;34m-\u001b[0m\u001b[0mfloat\u001b[0m\u001b[0;34m(\u001b[0m\u001b[0;34m'inf'\u001b[0m\u001b[0;34m)\u001b[0m\u001b[0;34m\u001b[0m\u001b[0;34m\u001b[0m\u001b[0m\n\u001b[1;32m    136\u001b[0m             \u001b[0musing_deprecated_nan\u001b[0m \u001b[0;34m=\u001b[0m \u001b[0;32mTrue\u001b[0m\u001b[0;34m\u001b[0m\u001b[0;34m\u001b[0m\u001b[0m\n\u001b[0;32m--> 137\u001b[0;31m         \u001b[0;32mif\u001b[0m \u001b[0m_clip_dep_is_scalar_nan\u001b[0m\u001b[0;34m(\u001b[0m\u001b[0mmax\u001b[0m\u001b[0;34m)\u001b[0m\u001b[0;34m:\u001b[0m\u001b[0;34m\u001b[0m\u001b[0;34m\u001b[0m\u001b[0m\n\u001b[0m\u001b[1;32m    138\u001b[0m             \u001b[0mmax\u001b[0m \u001b[0;34m=\u001b[0m \u001b[0mfloat\u001b[0m\u001b[0;34m(\u001b[0m\u001b[0;34m'inf'\u001b[0m\u001b[0;34m)\u001b[0m\u001b[0;34m\u001b[0m\u001b[0;34m\u001b[0m\u001b[0m\n\u001b[1;32m    139\u001b[0m             \u001b[0musing_deprecated_nan\u001b[0m \u001b[0;34m=\u001b[0m \u001b[0;32mTrue\u001b[0m\u001b[0;34m\u001b[0m\u001b[0;34m\u001b[0m\u001b[0m\n",
      "\u001b[0;32m~/opt/anaconda3/lib/python3.9/site-packages/numpy/core/_methods.py\u001b[0m in \u001b[0;36m_clip_dep_is_scalar_nan\u001b[0;34m(a)\u001b[0m\n\u001b[1;32m     95\u001b[0m         \u001b[0;32mreturn\u001b[0m \u001b[0;32mFalse\u001b[0m\u001b[0;34m\u001b[0m\u001b[0;34m\u001b[0m\u001b[0m\n\u001b[1;32m     96\u001b[0m     \u001b[0;32mtry\u001b[0m\u001b[0;34m:\u001b[0m\u001b[0;34m\u001b[0m\u001b[0;34m\u001b[0m\u001b[0m\n\u001b[0;32m---> 97\u001b[0;31m         \u001b[0;32mreturn\u001b[0m \u001b[0mum\u001b[0m\u001b[0;34m.\u001b[0m\u001b[0misnan\u001b[0m\u001b[0;34m(\u001b[0m\u001b[0ma\u001b[0m\u001b[0;34m)\u001b[0m\u001b[0;34m\u001b[0m\u001b[0;34m\u001b[0m\u001b[0m\n\u001b[0m\u001b[1;32m     98\u001b[0m     \u001b[0;32mexcept\u001b[0m \u001b[0mTypeError\u001b[0m\u001b[0;34m:\u001b[0m\u001b[0;34m\u001b[0m\u001b[0;34m\u001b[0m\u001b[0m\n\u001b[1;32m     99\u001b[0m         \u001b[0;32mreturn\u001b[0m \u001b[0;32mFalse\u001b[0m\u001b[0;34m\u001b[0m\u001b[0;34m\u001b[0m\u001b[0m\n",
      "\u001b[0;31mKeyboardInterrupt\u001b[0m: "
     ]
    }
   ],
   "source": [
    "strikes_call = np.arange(0.8, 1.21, 0.02)\n",
    "result = hc.price_payoff_coupling(x = stock_traj, strikes_call = strikes_call, maturities = maturities, itr = 1000, dt = 1/96, timesteps = 96)\n",
    "calibrated_payoff = result[1]\n",
    "market_price = result[0] # vanilla\n",
    "rho = 2"
   ]
  },
  {
   "cell_type": "code",
   "execution_count": 30,
   "id": "b06f5654-7adb-483a-abfa-3157c669282e",
   "metadata": {},
   "outputs": [],
   "source": [
    "# Save the list to a file\n",
    "filename = 'LV_calibrated_payoff.pkl'\n",
    "with open(filename, 'wb') as file:\n",
    "    pickle.dump(result[1], file)"
   ]
  },
  {
   "cell_type": "code",
   "execution_count": 15,
   "id": "14ffc3b2-c809-474d-9205-fb9421fe25d0",
   "metadata": {},
   "outputs": [
    {
     "data": {
      "text/plain": [
       "0.006908011778343283"
      ]
     },
     "execution_count": 15,
     "metadata": {},
     "output_type": "execute_result"
    }
   ],
   "source": [
    "mtgLoss_vanilla(rho, calibrated_payoff, market_price)"
   ]
  },
  {
   "cell_type": "code",
   "execution_count": 18,
   "id": "0f3165a5-5375-49ae-a715-d7c46a12f209",
   "metadata": {},
   "outputs": [
    {
     "data": {
      "text/plain": [
       "(4000, 21)"
      ]
     },
     "execution_count": 18,
     "metadata": {},
     "output_type": "execute_result"
    }
   ],
   "source": [
    "calibrated_payoff[0].shape"
   ]
  },
  {
   "cell_type": "code",
   "execution_count": 19,
   "id": "a9ced94b-84cb-4f98-8d7d-bbe6ae191d58",
   "metadata": {},
   "outputs": [
    {
     "data": {
      "text/plain": [
       "4"
      ]
     },
     "execution_count": 19,
     "metadata": {},
     "output_type": "execute_result"
    }
   ],
   "source": [
    "len(calibrated_payoff)"
   ]
  },
  {
   "cell_type": "code",
   "execution_count": 28,
   "id": "53b34a82-627a-4d98-a69d-e8eef6c4ad8f",
   "metadata": {},
   "outputs": [],
   "source": [
    "import pickle"
   ]
  },
  {
   "cell_type": "markdown",
   "id": "4b615733-fc85-4b4b-bf70-8e901f7d361b",
   "metadata": {},
   "source": [
    "#### Train on LSV Model with two maturities"
   ]
  },
  {
   "cell_type": "code",
   "execution_count": 9,
   "id": "8a791664-9a5b-4541-babc-9c5e5d473d81",
   "metadata": {},
   "outputs": [],
   "source": [
    "rho = 5\n",
    "lbd = -50\n",
    "ubd = 50\n",
    "conf = 95"
   ]
  },
  {
   "cell_type": "code",
   "execution_count": 10,
   "id": "8525c6fa-ad38-4170-ac4e-8c434e60ec7a",
   "metadata": {},
   "outputs": [
    {
     "name": "stdout",
     "output_type": "stream",
     "text": [
      "[16, 32]\n",
      "[[1.         0.95635444 0.96101594 ... 0.         0.         0.        ]\n",
      " [1.         0.99152702 0.97971606 ... 0.         0.         0.        ]\n",
      " [1.         1.00276649 0.98541278 ... 0.         0.         0.        ]\n",
      " ...\n",
      " [1.         1.00639749 1.00547409 ... 0.         0.         0.        ]\n",
      " [1.         1.02952552 1.0381937  ... 0.         0.         0.        ]\n",
      " [1.         1.01098406 0.97410154 ... 0.         0.         0.        ]]\n"
     ]
    }
   ],
   "source": [
    "# perform martingale test\n",
    "maturities = range(16, 33, 16)\n",
    "print(list(maturities))\n",
    "# load data\n",
    "stock_traj = np.loadtxt(\"LSV_calibrated_stock_traj.txt\")\n",
    "print(stock_traj)"
   ]
  },
  {
   "cell_type": "code",
   "execution_count": 11,
   "id": "248880e8-cfdf-4c42-87a3-a3c7f1e85d4e",
   "metadata": {},
   "outputs": [
    {
     "data": {
      "text/plain": [
       "array([1.        , 0.95635444, 0.96101594, 0.96356452, 0.95237756,\n",
       "       0.95915115, 0.96436673, 0.96914923, 0.98175144, 0.97802693,\n",
       "       0.99420196, 1.01122165, 1.02124596, 1.00007153, 1.0054847 ,\n",
       "       1.01051927, 1.00079477, 0.98420453, 0.99797356, 0.9923262 ,\n",
       "       0.98565644, 0.99156839, 1.04406202, 1.00005972, 0.98420578,\n",
       "       1.02549112, 0.9924286 , 1.00559068, 1.00461447, 0.85250759,\n",
       "       0.85628724, 0.82112503, 0.8429659 , 0.        , 0.        ,\n",
       "       0.        , 0.        , 0.        , 0.        , 0.        ,\n",
       "       0.        , 0.        , 0.        , 0.        , 0.        ,\n",
       "       0.        , 0.        , 0.        , 0.        , 0.        ,\n",
       "       0.        , 0.        , 0.        , 0.        , 0.        ,\n",
       "       0.        , 0.        , 0.        , 0.        , 0.        ,\n",
       "       0.        , 0.        , 0.        , 0.        , 0.        ,\n",
       "       0.        , 0.        , 0.        , 0.        , 0.        ,\n",
       "       0.        , 0.        , 0.        , 0.        , 0.        ,\n",
       "       0.        , 0.        , 0.        , 0.        , 0.        ,\n",
       "       0.        , 0.        , 0.        , 0.        , 0.        ,\n",
       "       0.        , 0.        , 0.        , 0.        , 0.        ,\n",
       "       0.        , 0.        , 0.        , 0.        , 0.        ,\n",
       "       0.        , 0.        ])"
      ]
     },
     "execution_count": 11,
     "metadata": {},
     "output_type": "execute_result"
    }
   ],
   "source": [
    "# take the first monte carlo iteration\n",
    "stock_traj[0]"
   ]
  },
  {
   "cell_type": "code",
   "execution_count": 12,
   "id": "fc7da45a-d37a-4fe6-a63a-9d4a283e2804",
   "metadata": {},
   "outputs": [
    {
     "name": "stdout",
     "output_type": "stream",
     "text": [
      "[0.8  0.82 0.84 0.86 0.88 0.9  0.92 0.94 0.96 0.98 1.   1.02 1.04 1.06\n",
      " 1.08 1.1  1.12 1.14 1.16 1.18 1.2 ]\n",
      "[16, 32]\n"
     ]
    }
   ],
   "source": [
    "strikes_call = np.arange(0.8, 1.21, 0.02)\n",
    "print(strikes_call)\n",
    "maturities = range(16, 33, 16)\n",
    "print(list(maturities))\n",
    "\n",
    "result = hc.price_payoff_coupling(x = stock_traj, strikes_call = strikes_call, maturities = maturities, itr = 1000, dt = 1/96, timesteps = 96)\n",
    "calibrated_payoff = result[1]\n",
    "market_price = result[0] # vanilla\n",
    "rho = 5"
   ]
  },
  {
   "cell_type": "code",
   "execution_count": 26,
   "id": "75543e7f-d23b-422f-a8a4-ea37a90b8adc",
   "metadata": {},
   "outputs": [],
   "source": [
    "def mtgLoss_vanilla(rho, calibrated_payoff, market_price):\n",
    "    # group by maturities\n",
    "    mat_num = len(calibrated_payoff) # number of maturities\n",
    "    itr, strike_num = calibrated_payoff[0].shape\n",
    "    vanilla_loss = []\n",
    "    for i in range(mat_num):\n",
    "        sum_ls = []\n",
    "        for j in range(itr):\n",
    "            # perform element-wise matrix multiplication\n",
    "            diff = calibrated_payoff[i][j].T.reshape(strike_num,1)-market_price[i][j]\n",
    "            compute_mat = np.multiply(diff,kernel(rho,diff))  \n",
    "            sum_ls.append(np.sum(np.multiply(compute_mat,compute_mat)))\n",
    "        vanilla_loss.append(sum(sum_ls)) # summing loss over all iterations\n",
    "    vanilla_loss = sum(vanilla_loss) # summing loss over all maturities\n",
    "    # compute average loss across iterations\n",
    "    avg_loss = vanilla_loss/(itr*mat_num*strike_num)\n",
    "    \n",
    "    return avg_loss"
   ]
  },
  {
   "cell_type": "code",
   "execution_count": 25,
   "id": "9a0ca57f-8451-4a9d-865b-281d7d6968f3",
   "metadata": {},
   "outputs": [
    {
     "data": {
      "text/plain": [
       "(4000, 21)"
      ]
     },
     "execution_count": 25,
     "metadata": {},
     "output_type": "execute_result"
    }
   ],
   "source": [
    "calibrated_payoff[0].shape"
   ]
  },
  {
   "cell_type": "code",
   "execution_count": 16,
   "id": "41e1701f-fea0-4c7b-9251-0c2e8f4a3f76",
   "metadata": {},
   "outputs": [
    {
     "data": {
      "text/plain": [
       "[array([[0.09022291, 0.08123633, 0.07224975, ..., 0.        , 0.        ,\n",
       "         0.        ],\n",
       "        [0.04872828, 0.0397417 , 0.03075512, ..., 0.        , 0.        ,\n",
       "         0.        ],\n",
       "        [0.08261912, 0.07363254, 0.06464596, ..., 0.        , 0.        ,\n",
       "         0.        ],\n",
       "        ...,\n",
       "        [0.1086222 , 0.09963562, 0.09064904, ..., 0.        , 0.        ,\n",
       "         0.        ],\n",
       "        [0.09364501, 0.08465843, 0.07567186, ..., 0.        , 0.        ,\n",
       "         0.        ],\n",
       "        [0.15386085, 0.14487428, 0.1358877 , ..., 0.        , 0.        ,\n",
       "         0.        ]]),\n",
       " array([[0.01930582, 0.01031924, 0.00133267, ..., 0.        , 0.        ,\n",
       "         0.        ],\n",
       "        [0.06285648, 0.0538699 , 0.04488332, ..., 0.        , 0.        ,\n",
       "         0.        ],\n",
       "        [0.07891711, 0.06993053, 0.06094395, ..., 0.        , 0.        ,\n",
       "         0.        ],\n",
       "        ...,\n",
       "        [0.16700277, 0.1580162 , 0.14902962, ..., 0.00524435, 0.        ,\n",
       "         0.        ],\n",
       "        [0.06013507, 0.05114849, 0.04216191, ..., 0.        , 0.        ,\n",
       "         0.        ],\n",
       "        [0.19373886, 0.18475228, 0.1757657 , ..., 0.03198043, 0.02299385,\n",
       "         0.01400727]])]"
      ]
     },
     "execution_count": 16,
     "metadata": {},
     "output_type": "execute_result"
    }
   ],
   "source": [
    "calibrated_payoff"
   ]
  },
  {
   "cell_type": "code",
   "execution_count": 17,
   "id": "c07c55b7-e090-4a1c-b2c5-a6c238d307fd",
   "metadata": {},
   "outputs": [
    {
     "data": {
      "text/plain": [
       "4000"
      ]
     },
     "execution_count": 17,
     "metadata": {},
     "output_type": "execute_result"
    }
   ],
   "source": [
    "len(calibrated_payoff[0])"
   ]
  },
  {
   "cell_type": "code",
   "execution_count": 18,
   "id": "a022a417-e47d-470c-ad50-6e09612b80ca",
   "metadata": {},
   "outputs": [
    {
     "data": {
      "text/plain": [
       "21"
      ]
     },
     "execution_count": 18,
     "metadata": {},
     "output_type": "execute_result"
    }
   ],
   "source": [
    "len(calibrated_payoff[0][0])"
   ]
  },
  {
   "cell_type": "code",
   "execution_count": 28,
   "id": "cb845abc-38ef-4678-aaf0-932bab2b42e5",
   "metadata": {},
   "outputs": [
    {
     "data": {
      "text/plain": [
       "0.045578388542720435"
      ]
     },
     "execution_count": 28,
     "metadata": {},
     "output_type": "execute_result"
    }
   ],
   "source": [
    "vanilla_loss = mtgLoss_vanilla(rho, calibrated_payoff, market_price)\n",
    "vanilla_loss"
   ]
  },
  {
   "cell_type": "code",
   "execution_count": 32,
   "id": "fceef29d-3e74-4e1c-841f-f5518812f4b6",
   "metadata": {},
   "outputs": [],
   "source": [
    "result = np.loadtxt('rho5sig1.txt')"
   ]
  },
  {
   "cell_type": "code",
   "execution_count": 34,
   "id": "3fd48f42-0d37-4e11-99ba-ae72018f399d",
   "metadata": {},
   "outputs": [
    {
     "data": {
      "text/plain": [
       "4.498309681496935"
      ]
     },
     "execution_count": 34,
     "metadata": {},
     "output_type": "execute_result"
    }
   ],
   "source": [
    "bond = cutoff(result,conf)\n",
    "bond"
   ]
  },
  {
   "cell_type": "code",
   "execution_count": 35,
   "id": "d5e6ce86-477b-4186-bc9a-6c8b6c07b5e0",
   "metadata": {},
   "outputs": [
    {
     "data": {
      "text/plain": [
       "168000"
      ]
     },
     "execution_count": 35,
     "metadata": {},
     "output_type": "execute_result"
    }
   ],
   "source": [
    "21*4000*2"
   ]
  },
  {
   "cell_type": "code",
   "execution_count": 36,
   "id": "017b7a15-ea9b-4007-9214-1e8c37210f2d",
   "metadata": {},
   "outputs": [
    {
     "data": {
      "text/plain": [
       "18.681580135561337"
      ]
     },
     "execution_count": 36,
     "metadata": {},
     "output_type": "execute_result"
    }
   ],
   "source": [
    "np.sqrt(168000)*vanilla_loss"
   ]
  },
  {
   "cell_type": "code",
   "execution_count": 31,
   "id": "94271797-9b01-4d64-bbdc-0c9dbd59e8e9",
   "metadata": {},
   "outputs": [
    {
     "data": {
      "text/plain": [
       "(0.06445757522822573, True)"
      ]
     },
     "execution_count": 31,
     "metadata": {},
     "output_type": "execute_result"
    }
   ],
   "source": [
    "mtgl_test(rho,calibrated_payoff, market_price,lbd,ubd,conf,result,vanilla_loss)"
   ]
  },
  {
   "cell_type": "code",
   "execution_count": null,
   "id": "cec09300-8324-41e5-b5cf-37d1bf1ddab2",
   "metadata": {},
   "outputs": [],
   "source": []
  },
  {
   "cell_type": "code",
   "execution_count": 29,
   "id": "5543dfdc-287e-4c34-997d-00c3036901da",
   "metadata": {},
   "outputs": [
    {
     "data": {
      "text/plain": [
       "1.7637917394323581"
      ]
     },
     "execution_count": 29,
     "metadata": {},
     "output_type": "execute_result"
    }
   ],
   "source": [
    "#mtgLoss_vanilla(rho, calibrated_payoff, market_price)"
   ]
  },
  {
   "cell_type": "code",
   "execution_count": null,
   "id": "2946f8e2-c663-4774-9af1-89acad4706b3",
   "metadata": {},
   "outputs": [],
   "source": [
    "# q. experiment of the sigma (detect the bump)"
   ]
  }
 ],
 "metadata": {
  "kernelspec": {
   "display_name": "Python 3 (ipykernel)",
   "language": "python",
   "name": "python3"
  },
  "language_info": {
   "codemirror_mode": {
    "name": "ipython",
    "version": 3
   },
   "file_extension": ".py",
   "mimetype": "text/x-python",
   "name": "python",
   "nbconvert_exporter": "python",
   "pygments_lexer": "ipython3",
   "version": "3.12.8"
  }
 },
 "nbformat": 4,
 "nbformat_minor": 5
}
