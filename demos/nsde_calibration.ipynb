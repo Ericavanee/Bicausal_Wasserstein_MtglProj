{
 "cells": [
  {
   "cell_type": "code",
   "execution_count": null,
   "metadata": {},
   "outputs": [],
   "source": [
    "from applications.nsde_calibration.heston_call import *"
   ]
  },
  {
   "cell_type": "markdown",
   "metadata": {},
   "source": [
    "In This tutorial, we walk through how to obtain the calibrated stock trajectories using LV and LSV Neural-SDE models, based on the implementation of [Gierjatowicz et. al.](https://arxiv.org/abs/2007.04154). We also explore functionalities in **`heston_call.py`**."
   ]
  },
  {
   "cell_type": "code",
   "execution_count": null,
   "metadata": {},
   "outputs": [],
   "source": [
    "heston = HestonModel(\n",
    "        x0=1,  # Initial stock price\n",
    "        r=0.025,  # Risk-free rate\n",
    "        V0=0.04, # Initial variance\n",
    "        kappa=0.78, mu=0.11, eta=0.68, rho=0.044, # Heston parameters\n",
    "        dt=1/96, timesteps=96, \n",
    "        seed=42  # Fixing seed for reproducibility\n",
    "    )"
   ]
  },
  {
   "cell_type": "code",
   "execution_count": null,
   "metadata": {},
   "outputs": [],
   "source": [
    "    # Simulate stock price paths\n",
    "n_paths = 5  # Number of paths to plot\n",
    "stock_paths, var_paths, running_max = heston.Heston_stock(itr=n_paths)"
   ]
  },
  {
   "cell_type": "code",
   "execution_count": null,
   "metadata": {},
   "outputs": [],
   "source": [
    "heston.plot_paths(stock_paths)"
   ]
  },
  {
   "cell_type": "code",
   "execution_count": null,
   "metadata": {},
   "outputs": [],
   "source": [
    "strike_prices = np.arange(0.8, 1.21, 0.02)\n",
    "maturities = list(range(16, 33, 16))  # 6 months, 1 year\n",
    "vanilla_prices, exotic_prices = heston.price_option_for_t(\n",
    "        strikes_call=strike_prices, \n",
    "        maturities_in_years=maturities, \n",
    "        t_in_years=0.25,  # Pricing at 3 months in\n",
    "        outer_itr=5, inner_itr=10\n",
    "    )"
   ]
  },
  {
   "cell_type": "code",
   "execution_count": null,
   "metadata": {},
   "outputs": [],
   "source": [
    "vanilla_prices.shape"
   ]
  },
  {
   "cell_type": "code",
   "execution_count": null,
   "metadata": {},
   "outputs": [],
   "source": [
    "heston.plot_vanilla_prices(maturities,strike_prices, vanilla_prices)"
   ]
  },
  {
   "cell_type": "code",
   "execution_count": null,
   "metadata": {},
   "outputs": [],
   "source": [
    "print(\"Vanilla Call Option Prices (rows: maturities, columns: strikes):\")\n",
    "print(vanilla_prices)\n",
    "\n",
    "print(\"\\nExotic Option Prices (maturities):\")\n",
    "print(exotic_prices)"
   ]
  },
  {
   "cell_type": "code",
   "execution_count": null,
   "metadata": {},
   "outputs": [],
   "source": [
    "from src.adapted_mtgl.utils import *"
   ]
  },
  {
   "cell_type": "markdown",
   "metadata": {},
   "source": [
    "To get Neural-SDE calibrated stock trajectory and the associated variance trajectory, follow the follwing commands:\n",
    "\n",
    "(1). **`cd ..`** to Navigate first to the outer directroy.\n",
    "\n",
    "(2). Run the following command for Local Volatility (LV) based Neural-SDE model: \n",
    "```\n",
    "python scripts/run_adapted_LV.py \\\n",
    "    --device 0 \\\n",
    "    --n_layers 4 \\\n",
    "    --vNetWidth 128 \\\n",
    "    --MC_samples_test 5000 \\\n",
    "    --batch_size 1000 \\\n",
    "    --n_epochs 100 \\\n",
    "    --save_dir data/nsde_calibration/\n",
    "``` \n",
    "Follow instructions in **`scripts/run_adapted_LV.py`** for instructions on adding extra customized parameters or arguments.\n",
    "\n",
    "Run the following command for Local Stochastic Volatility (LSV) based Neural-SDE model: \n",
    "```\n",
    "python scripts/run_adapted_LSV.py \\\n",
    "    --device 0 \\\n",
    "    --n_layers 4 \\\n",
    "    --vNetWidth 128 \\\n",
    "    --MC_samples_test 5000 \\\n",
    "    --batch_size 1000 \\\n",
    "    --n_epochs 100 \\\n",
    "    --save_dir data/nsde_calibration/\n",
    "```    \n",
    "Follow instructions in **`scripts/run_adapted_LSV.py`** for instructions on adding extra customized parameters or arguments.\n",
    "\n",
    "You may also find instructions and argument definitions in **`scripts/argparse_helper.py`** useful.\n"
   ]
  },
  {
   "cell_type": "code",
   "execution_count": null,
   "metadata": {},
   "outputs": [],
   "source": [
    "traj_txt = \"data/nsde_calibration/stock_traj_LSV.txt\"\n",
    "var_txt = \"data/nsde_calibration/var_traj_LSV.txt\"\n",
    "traj_mat = load_txt_as_matrix(traj_txt)\n",
    "print(traj_mat.shape)\n",
    "var_mat = load_txt_as_matrix(var_txt)\n",
    "print(var_mat.shape)"
   ]
  },
  {
   "cell_type": "code",
   "execution_count": null,
   "metadata": {},
   "outputs": [],
   "source": [
    "print(traj_mat[0, :10])"
   ]
  },
  {
   "cell_type": "code",
   "execution_count": null,
   "metadata": {},
   "outputs": [],
   "source": [
    "mat_ls, vanilla_payoff_ls = heston.price_payoff_coupling(\n",
    "    x = traj_mat,\n",
    "    v = var_mat,\n",
    "    strikes_call=strike_prices,\n",
    "    maturities=maturities,\n",
    "    inner_itr=10\n",
    ")"
   ]
  },
  {
   "cell_type": "code",
   "execution_count": null,
   "metadata": {},
   "outputs": [],
   "source": [
    "# Print one example result\n",
    "print(\"\\nPrice-Payoff Coupling for First Maturity and Strike (Outer Path 0, First Time Step):\")\n",
    "print(mat_ls[0][0, 0, 0], \" vs. \", vanilla_payoff_ls[0][0, 0])"
   ]
  }
 ],
 "metadata": {
  "kernelspec": {
   "display_name": "base",
   "language": "python",
   "name": "python3"
  },
  "language_info": {
   "codemirror_mode": {
    "name": "ipython",
    "version": 3
   },
   "file_extension": ".py",
   "mimetype": "text/x-python",
   "name": "python",
   "nbconvert_exporter": "python",
   "pygments_lexer": "ipython3",
   "version": "3.12.8"
  }
 },
 "nbformat": 4,
 "nbformat_minor": 2
}
